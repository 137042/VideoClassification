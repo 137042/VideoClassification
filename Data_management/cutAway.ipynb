{
 "cells": [
  {
   "cell_type": "code",
   "execution_count": null,
   "metadata": {},
   "outputs": [],
   "source": [
    "from PIL import Image\n",
    "import numpy as np\n",
    "import matplotlib.pyplot as plt\n",
    "\n",
    "path = \"다운로드.jpg\"\n",
    "\n",
    "image = np.array(Image.open(path).convert(\"RGB\").resize((256, 256)))\n",
    "image_r, image_g, image_b = image[:,:,0], image[:,:,1], image[:,:,2]\n",
    "image_s = np.stack([image_r, image_g, image_b], -1)\n",
    "image_r, image_g, image_b = np.diag(image_r), np.diag(image_g), np.diag(image_b)\n",
    "\n",
    "# image = plt.imshow(image)\n",
    "# plt.show()\n",
    "\n",
    "# image_s = plt.imshow(image_s)\n",
    "# plt.show()"
   ]
  },
  {
   "cell_type": "code",
   "execution_count": 31,
   "metadata": {},
   "outputs": [
    {
     "name": "stderr",
     "output_type": "stream",
     "text": [
      "Extract Features: 100%|██████████| 5/5 [00:04<00:00,  1.18it/s]\n",
      "Extract Features: 100%|██████████| 5/5 [00:04<00:00,  1.19it/s]\n"
     ]
    }
   ],
   "source": [
    "import cv2\n",
    "import math\n",
    "from PIL import Image\n",
    "import numpy as np\n",
    "import matplotlib.pyplot as plt\n",
    "import glob\n",
    "from tqdm import tqdm\n",
    "from torchvision import transforms\n",
    "import random\n",
    "\n",
    "video_legal_dir = r\"D:\\Video-Dataset\\2022-NSR-3m-재분류\\agree\"\n",
    "video_illegal_dir = r\"D:\\Video-Dataset\\2022-NSR-3m-재분류\\non-agree\"\n",
    "\n",
    "transform = transforms.Compose([\n",
    "    transforms.RandomCrop(224),\n",
    "    transforms.RandomHorizontalFlip(), \n",
    "    transforms.ToTensor(), \n",
    "    transforms.Normalize((0.485, 0.456, 0.406), (0.229, 0.224, 0.225))\n",
    "])\n",
    "\n",
    "def extract_diagnoal_matrix(dir_path : str):\n",
    "    video_paths = glob.glob(dir_path + \"\\*.mp4\")\n",
    "    random.shuffle(video_paths)\n",
    "    video_paths = video_paths[:5]\n",
    "    video_diagonals = []\n",
    "    video_names = []\n",
    "\n",
    "    pre_ht = []\n",
    "\n",
    "    for video_path in tqdm(video_paths, total=len(video_paths), desc=\"Extract Features\"):\n",
    "        vidcap = cv2.VideoCapture(video_path)\n",
    "        vid_total_frames_num = vidcap.get(cv2.CAP_PROP_FRAME_COUNT)\n",
    "        vid_frame_per_s = int(vidcap.get(cv2.CAP_PROP_FPS))\n",
    "        video_name = video_path.split(\"\\\\\")[-1]\n",
    "\n",
    "        sections, retstep = np.linspace(1, vid_total_frames_num, 257, retstep=True)\n",
    "        sections = list(map(math.floor, sections))\n",
    "        frame_diagonals = []\n",
    "        frames = []\n",
    "\n",
    "        while(vidcap.isOpened()):\n",
    "            ret, frame = vidcap.read()\n",
    "            \n",
    "            if not ret:\n",
    "                break\n",
    "\n",
    "            if int(vidcap.get(cv2.CAP_PROP_POS_FRAMES)) in sections or int(vidcap.get(cv2.CAP_PROP_POS_FRAMES)) not in sections:\n",
    "            # if int(vidcap.get(cv2.CAP_PROP_POS_FRAMES)) in sections:\n",
    "                frame = cv2.resize(frame, (256, 256))\n",
    "\n",
    "                if int(vidcap.get(cv2.CAP_PROP_POS_FRAMES)) == 1:\n",
    "                    pre_frame = frame\n",
    "                    continue\n",
    "                \n",
    "                # if int(vidcap.get(cv2.CAP_PROP_POS_FRAMES)) == sections[1]:\n",
    "                #     frames = np.sum(abs(pre_frame - frame), axis=1)\n",
    "                # else:\n",
    "                #     frames += np.sum(abs(pre_frame - frame), axis=1)\n",
    "\n",
    "                if int(vidcap.get(cv2.CAP_PROP_POS_FRAMES)) == 2:\n",
    "                    frame_df = cv2.absdiff(pre_frame, frame)\n",
    "                else:\n",
    "                    frame_df += cv2.absdiff(pre_frame, frame)\n",
    "\n",
    "                frame_r, frame_g, frame_b = frame_df[:,:,0], frame_df[:,:,1], frame_df[:,:,2]\n",
    "                frame_r, frame_g, frame_b = np.diag(frame_r), np.diag(frame_g), np.diag(frame_b)\n",
    "                # frame_r, frame_g, frame_b = np.sum(frame_r, axis=0) / 256, np.sum(frame_g, axis=0) / 256, np.sum(frame_b, axis=0) / 256\n",
    "\n",
    "\n",
    "                frame_diagonal = np.stack([frame_r, frame_g, frame_b], -1)\n",
    "                frame_diagonal = np.expand_dims(frame_diagonal, 1)\n",
    "                # frame_diagonals.append(frame_diagonal)\n",
    "                frame_diagonals.append(frame_df)\n",
    "                pre_frame = frame\n",
    "\n",
    "        vidcap.release()\n",
    "        # video_diagonal = np.concatenate(frame_diagonals, axis=1)\n",
    "        # video_diagonal = video_diagonal.astype(float)\n",
    "        # video_diagonal /= (256*256)\n",
    "        video_diagonal = frame_df / 256\n",
    "        video_diagonals.append(video_diagonal)\n",
    "        video_names.append(video_name)\n",
    "    \n",
    "    return video_names, video_diagonals\n",
    "\n",
    "legal_diagonals = extract_diagnoal_matrix(video_legal_dir)\n",
    "illegal_diagonals = extract_diagnoal_matrix(video_illegal_dir)"
   ]
  },
  {
   "cell_type": "code",
   "execution_count": 32,
   "metadata": {},
   "outputs": [],
   "source": [
    "diagonals_legal = []\n",
    "diagonals_illegal = []\n",
    "legal_names = []\n",
    "illegal_names = []\n",
    "\n",
    "for name, diagonal_legal in zip(legal_diagonals[0], legal_diagonals[1]):\n",
    "    legal_names.append(name)\n",
    "    diagonals_legal.append(diagonal_legal)\n",
    "\n",
    "for name, diagonal_illegal in zip(illegal_diagonals[0], illegal_diagonals[1]):\n",
    "    illegal_names.append(name)\n",
    "    diagonals_illegal.append(diagonal_illegal)"
   ]
  },
  {
   "cell_type": "code",
   "execution_count": 2,
   "metadata": {},
   "outputs": [
    {
     "ename": "NameError",
     "evalue": "name 'illegal_names' is not defined",
     "output_type": "error",
     "traceback": [
      "\u001b[1;31m---------------------------------------------------------------------------\u001b[0m",
      "\u001b[1;31mNameError\u001b[0m                                 Traceback (most recent call last)",
      "\u001b[1;32m~\\AppData\\Local\\Temp\\ipykernel_20588\\1252236083.py\u001b[0m in \u001b[0;36m<module>\u001b[1;34m\u001b[0m\n\u001b[1;32m----> 1\u001b[1;33m \u001b[1;32mfor\u001b[0m \u001b[0mn\u001b[0m\u001b[1;33m,\u001b[0m \u001b[0mi\u001b[0m \u001b[1;32min\u001b[0m \u001b[0mzip\u001b[0m\u001b[1;33m(\u001b[0m\u001b[0millegal_names\u001b[0m\u001b[1;33m,\u001b[0m \u001b[0mdiagonals_illegal\u001b[0m\u001b[1;33m)\u001b[0m\u001b[1;33m:\u001b[0m\u001b[1;33m\u001b[0m\u001b[1;33m\u001b[0m\u001b[0m\n\u001b[0m\u001b[0;32m      2\u001b[0m     \u001b[0mprint\u001b[0m\u001b[1;33m(\u001b[0m\u001b[0mn\u001b[0m\u001b[1;33m)\u001b[0m\u001b[1;33m\u001b[0m\u001b[1;33m\u001b[0m\u001b[0m\n\u001b[0;32m      3\u001b[0m     \u001b[0mprint\u001b[0m\u001b[1;33m(\u001b[0m\u001b[0mi\u001b[0m\u001b[1;33m.\u001b[0m\u001b[0mshape\u001b[0m\u001b[1;33m)\u001b[0m\u001b[1;33m\u001b[0m\u001b[1;33m\u001b[0m\u001b[0m\n\u001b[0;32m      4\u001b[0m     \u001b[1;31m# i = i.astype(np.uint8)\u001b[0m\u001b[1;33m\u001b[0m\u001b[1;33m\u001b[0m\u001b[1;33m\u001b[0m\u001b[0m\n\u001b[0;32m      5\u001b[0m     \u001b[0mplt\u001b[0m\u001b[1;33m.\u001b[0m\u001b[0mimshow\u001b[0m\u001b[1;33m(\u001b[0m\u001b[0mi\u001b[0m\u001b[1;33m)\u001b[0m\u001b[1;33m\u001b[0m\u001b[1;33m\u001b[0m\u001b[0m\n",
      "\u001b[1;31mNameError\u001b[0m: name 'illegal_names' is not defined"
     ]
    }
   ],
   "source": [
    "for n, i in zip(illegal_names, diagonals_illegal):\n",
    "    print(n)\n",
    "    print(i.shape)\n",
    "    # i = i.astype(np.uint8)\n",
    "    plt.imshow(i)\n",
    "    plt.plot\n",
    "    plt.show()"
   ]
  },
  {
   "cell_type": "code",
   "execution_count": null,
   "metadata": {},
   "outputs": [],
   "source": [
    "from PIL import Image\n",
    "\n",
    "save_dir = r\"D:\\Video-Dataset\\2022-NSR-3m-재분류\\non-agree-image\"\n",
    "\n",
    "def image_save(images):\n",
    "    for name, image in tqdm(zip(images[0], images[1]), total=len(images[0]), desc=\"Image save\"):\n",
    "        name = name.split(\".\")[0] + \".png\"\n",
    "        image = Image.fromarray(image)\n",
    "        image.save(f\"{save_dir}\\{name}\")\n",
    "\n",
    "# image_save(legal_diagonals)\n",
    "image_save(illegal_diagonals)"
   ]
  },
  {
   "cell_type": "code",
   "execution_count": null,
   "metadata": {},
   "outputs": [],
   "source": []
  }
 ],
 "metadata": {
  "kernelspec": {
   "display_name": "Python 3.7.11 ('torch')",
   "language": "python",
   "name": "python3"
  },
  "language_info": {
   "codemirror_mode": {
    "name": "ipython",
    "version": 3
   },
   "file_extension": ".py",
   "mimetype": "text/x-python",
   "name": "python",
   "nbconvert_exporter": "python",
   "pygments_lexer": "ipython3",
   "version": "3.7.11"
  },
  "orig_nbformat": 4,
  "vscode": {
   "interpreter": {
    "hash": "af640ef5e237560663450db179292dda4e36d8af96316b6d53ad8d34500a15be"
   }
  }
 },
 "nbformat": 4,
 "nbformat_minor": 2
}
