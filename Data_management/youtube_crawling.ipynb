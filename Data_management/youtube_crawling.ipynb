{
 "cells": [
  {
   "cell_type": "code",
   "execution_count": null,
   "metadata": {},
   "outputs": [],
   "source": [
    "import os\n",
    "import pandas as pd\n",
    "import pytube\n",
    "from tqdm import tqdm\n",
    "import glob\n",
    "\n",
    "\n",
    "# train : 1272+2021+2379+1665+20000+5723+2982:\n",
    "\n",
    "data = pd.read_csv(r\"C:\\Users\\VIP444\\Desktop\\kinetics400\\test.csv\", encoding=\"utf-8\")\n",
    "labels = list(data['label'])[6651+1000:]\n",
    "paths = list(data['youtube_id'])[6651+1000:]\n",
    "\n",
    "dir_paths = glob.glob(r\"D:\\Video-Dataset\\Kinetics400\\test\\*\")\n",
    "\n",
    "kinetics = {}\n",
    "\n",
    "for dir_path in dir_paths:\n",
    "    label = dir_path.split(\"\\\\\")[-1]\n",
    "    n = len(glob.glob(dir_path + \"\\\\*\"))\n",
    "\n",
    "    kinetics[label] = n"
   ]
  },
  {
   "cell_type": "code",
   "execution_count": 1,
   "metadata": {},
   "outputs": [],
   "source": [
    "with open(r\"C:\\Users\\VIP444\\Documents\\Github\\VideoClassification\\agree.txt\", \"r\", encoding='utf-8') as file:\n",
    "    agree_paths = file.readlines()\n",
    "\n",
    "with open(r\"C:\\Users\\VIP444\\Documents\\Github\\VideoClassification\\non-agree.txt\", \"r\", encoding='utf-8') as file:\n",
    "    non_agree_paths = file.readlines()\n",
    "\n",
    "labels = [\"agree\", \"non-agree\"]"
   ]
  },
  {
   "cell_type": "code",
   "execution_count": 2,
   "metadata": {},
   "outputs": [
    {
     "name": "stderr",
     "output_type": "stream",
     "text": [
      "agree data downloading: 0it [00:00, ?it/s]\n",
      "non-agree data downloading: 100%|██████████| 1/1 [00:17<00:00, 17.96s/it]\n",
      "100%|██████████| 2/2 [00:17<00:00,  8.98s/it]\n"
     ]
    }
   ],
   "source": [
    "from tqdm import tqdm\n",
    "import pytube\n",
    "\n",
    "root_dir = r\"D:\\Video-Dataset\\2022-NSR-v4\"\n",
    "\n",
    "os.makedirs(root_dir, exist_ok=True)\n",
    "\n",
    "error_list = []\n",
    "\n",
    "for label in tqdm(labels, total=len(labels)):\n",
    "\n",
    "    if label == \"agree\":\n",
    "        paths = agree_paths\n",
    "    else:\n",
    "        paths = non_agree_paths\n",
    "\n",
    "    for path in tqdm(paths, total=len(paths), desc=f\"{label} data downloading\"):\n",
    "        try:\n",
    "            down_dir = root_dir + f\"\\{label}\"\n",
    "            os.makedirs(down_dir, exist_ok=True)\n",
    "\n",
    "            youtube = pytube.YouTube(path)\n",
    "            name = youtube.title\n",
    "            \n",
    "            stream = youtube.streams.get_highest_resolution()\n",
    "            stream.download(f\"{down_dir}\")\n",
    "        except:\n",
    "            print(label, path)\n",
    "            error_list.append([name, path])  "
   ]
  },
  {
   "cell_type": "code",
   "execution_count": 3,
   "metadata": {},
   "outputs": [
    {
     "data": {
      "text/plain": [
       "[]"
      ]
     },
     "execution_count": 3,
     "metadata": {},
     "output_type": "execute_result"
    }
   ],
   "source": [
    "error_list"
   ]
  },
  {
   "cell_type": "code",
   "execution_count": null,
   "metadata": {},
   "outputs": [],
   "source": []
  }
 ],
 "metadata": {
  "kernelspec": {
   "display_name": "Python 3.7.11 ('torch')",
   "language": "python",
   "name": "python3"
  },
  "language_info": {
   "codemirror_mode": {
    "name": "ipython",
    "version": 3
   },
   "file_extension": ".py",
   "mimetype": "text/x-python",
   "name": "python",
   "nbconvert_exporter": "python",
   "pygments_lexer": "ipython3",
   "version": "3.7.11"
  },
  "orig_nbformat": 4,
  "vscode": {
   "interpreter": {
    "hash": "af640ef5e237560663450db179292dda4e36d8af96316b6d53ad8d34500a15be"
   }
  }
 },
 "nbformat": 4,
 "nbformat_minor": 2
}
