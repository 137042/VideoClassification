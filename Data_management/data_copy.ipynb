{
 "cells": [
  {
   "cell_type": "code",
   "execution_count": 3,
   "metadata": {},
   "outputs": [
    {
     "name": "stderr",
     "output_type": "stream",
     "text": [
      "100%|██████████| 100/100 [00:01<00:00, 63.03it/s]\n",
      "100%|██████████| 1/1 [00:01<00:00,  1.59s/it]\n"
     ]
    }
   ],
   "source": [
    "import glob\n",
    "import shutil\n",
    "from tqdm import tqdm\n",
    "import os\n",
    "import random\n",
    "\n",
    "file_destination = r'D:\\Video-Dataset\\sample_data\\non-agree'\n",
    "file_sources = [\n",
    "    # r\"D:\\Video-Dataset\\2022-NSR-3m-재분류\\agree\",\n",
    "    r\"D:\\Video-Dataset\\2022-NSR-3m-재분류\\non-agree\"\n",
    "]\n",
    "\n",
    "for file_source in tqdm(file_sources, total=len(file_sources)):\n",
    "    file_paths = glob.glob(file_source + \"\\*.mp4\")\n",
    "    file_paths.sort()\n",
    "    random.shuffle(file_paths)\n",
    "    file_paths = file_paths[:100]\n",
    " \n",
    "    for file_path in tqdm(file_paths, total=len(file_paths)):\n",
    "        cur_file_name = file_path.split(\"\\\\\")[-1]\n",
    "        \n",
    "        shutil.copy2(file_path, f\"{file_destination}\\{cur_file_name}\")"
   ]
  },
  {
   "cell_type": "code",
   "execution_count": null,
   "metadata": {},
   "outputs": [],
   "source": []
  }
 ],
 "metadata": {
  "kernelspec": {
   "display_name": "Python 3.7.11 ('torch')",
   "language": "python",
   "name": "python3"
  },
  "language_info": {
   "codemirror_mode": {
    "name": "ipython",
    "version": 3
   },
   "file_extension": ".py",
   "mimetype": "text/x-python",
   "name": "python",
   "nbconvert_exporter": "python",
   "pygments_lexer": "ipython3",
   "version": "3.7.11"
  },
  "orig_nbformat": 4,
  "vscode": {
   "interpreter": {
    "hash": "af640ef5e237560663450db179292dda4e36d8af96316b6d53ad8d34500a15be"
   }
  }
 },
 "nbformat": 4,
 "nbformat_minor": 2
}
