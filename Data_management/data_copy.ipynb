{
 "cells": [
  {
   "cell_type": "code",
   "execution_count": null,
   "metadata": {},
   "outputs": [],
   "source": [
    "import glob\n",
    "import shutil\n",
    "from tqdm import tqdm\n",
    "import os\n",
    "\n",
    "file_destination = r'D:\\2022-불법영상물-agree'\n",
    "file_sources = [\n",
    "    r\"D:\\2022-불법영상물-유튜브-after\\agree\",\n",
    "    r\"D:\\2022-불법영상물-직촬-after\\agree\",\n",
    "    r\"D:\\2022-불법영상물-유튜브-2-after\\agree\"\n",
    "]\n",
    "\n",
    "idx = 1\n",
    "pre_file_name = \"\"\n",
    "\n",
    "for file_source in tqdm(file_sources, total=len(file_sources)):\n",
    "    file_paths = glob.glob(file_source + \"\\*.mp4\")\n",
    "    file_paths.sort()\n",
    " \n",
    "    for file_path in tqdm(file_paths, total=len(file_paths)):\n",
    "        cur_file_name = file_path.split(\"\\\\\")[-1]\n",
    "        file_name = cur_file_name.split(\"-\")\n",
    "        file_name = f\"{str(idx).zfill(3)}-{file_name[1]}\"\n",
    "    \n",
    "        shutil.copy2(file_path, f\"{file_destination}\\{file_name}\")\n",
    "\n",
    "        if pre_file_name != cur_file_name:\n",
    "            pre_file_name = cur_file_name\n",
    "            idx += 1"
   ]
  }
 ],
 "metadata": {
  "language_info": {
   "name": "python"
  },
  "orig_nbformat": 4
 },
 "nbformat": 4,
 "nbformat_minor": 2
}
