{
 "cells": [
  {
   "cell_type": "code",
   "execution_count": null,
   "metadata": {},
   "outputs": [],
   "source": [
    "import os\n",
    "import pandas as pd\n",
    "import pytube\n",
    "from tqdm import tqdm\n",
    "\n",
    "data = pd.read_csv(r\"./NSR_data.csv\", encoding=\"utf-8\", usecols=[\"링크\", \"영상 제목\", \"분류(동의, 비동의)\"])\n",
    "regal = data[:102]\n",
    "illegal = data[102:]"
   ]
  },
  {
   "cell_type": "code",
   "execution_count": null,
   "metadata": {},
   "outputs": [],
   "source": [
    "root_dir = r\"D:\\Video-Dataset\\Youtube_collect\"\n",
    "\n",
    "os.makedirs(root_dir, exist_ok=True)\n",
    "\n",
    "for path in tqdm(illegal[\"링크\"]):\n",
    "    print(path)\n",
    "    break\n",
    "    try:\n",
    "        down_dir = root_dir + f\"\\Illegal\"\n",
    "\n",
    "        os.makedirs(down_dir, exist_ok=True)\n",
    "\n",
    "        youtube = pytube.YouTube(path)\n",
    "        name = youtube.title + \".mp4\"\n",
    "\n",
    "        if os.path.exists(down_dir + name) == False:\n",
    "            stream = youtube.streams.get_highest_resolution()\n",
    "            stream.download(f\"{down_dir}\")\n",
    "    except:\n",
    "        print(name)\n"
   ]
  },
  {
   "cell_type": "code",
   "execution_count": null,
   "metadata": {},
   "outputs": [],
   "source": [
    "import os\n",
    "import pandas as pd\n",
    "import pytube\n",
    "from tqdm import tqdm\n",
    "import glob\n",
    "\n",
    "\n",
    "# train : 1272+2021+2379+1665+20000+5723+2982:\n",
    "\n",
    "data = pd.read_csv(r\"C:\\Users\\VIP444\\Desktop\\kinetics400\\test.csv\", encoding=\"utf-8\")\n",
    "labels = list(data['label'])[6651+1000:]\n",
    "paths = list(data['youtube_id'])[6651+1000:]\n",
    "\n",
    "dir_paths = glob.glob(r\"D:\\Video-Dataset\\Kinetics400\\test\\*\")\n",
    "\n",
    "kinetics = {}\n",
    "\n",
    "for dir_path in dir_paths:\n",
    "    label = dir_path.split(\"\\\\\")[-1]\n",
    "    n = len(glob.glob(dir_path + \"\\\\*\"))\n",
    "\n",
    "    kinetics[label] = n"
   ]
  },
  {
   "cell_type": "code",
   "execution_count": null,
   "metadata": {},
   "outputs": [],
   "source": [
    "kinetics"
   ]
  },
  {
   "cell_type": "code",
   "execution_count": null,
   "metadata": {},
   "outputs": [],
   "source": [
    "root_dir = r\"D:\\Video-Dataset\\Kinetics400\\test\"\n",
    "\n",
    "os.makedirs(root_dir, exist_ok=True)\n",
    "\n",
    "youtube_path = r\"https://www.youtube.com/watch?v=\"\n",
    "\n",
    "error_list = []\n",
    "\n",
    "for idx, (label, path) in enumerate(tqdm(zip(labels, paths), desc=\"download kinetics400\", total=len(labels))):\n",
    "    try:\n",
    "        if label in kinetics and kinetics[label] >= 5:\n",
    "            continue\n",
    "\n",
    "        down_dir = root_dir + f\"\\{label}\"\n",
    "\n",
    "        os.makedirs(down_dir, exist_ok=True)\n",
    "\n",
    "        path = youtube_path + path\n",
    "        youtube = pytube.YouTube(path)\n",
    "\n",
    "        stream = youtube.streams.get_highest_resolution()\n",
    "        stream.download(f\"{down_dir}\")\n",
    "\n",
    "        if label in kinetics:\n",
    "            kinetics[label] += 1\n",
    "        else:\n",
    "            kinetics[label] = 1\n",
    "    except:\n",
    "        print(idx, label, path)\n",
    "        error_list.append(idx)"
   ]
  },
  {
   "cell_type": "code",
   "execution_count": null,
   "metadata": {},
   "outputs": [],
   "source": []
  }
 ],
 "metadata": {
  "kernelspec": {
   "display_name": "Python 3.7.11 ('torch')",
   "language": "python",
   "name": "python3"
  },
  "language_info": {
   "codemirror_mode": {
    "name": "ipython",
    "version": 3
   },
   "file_extension": ".py",
   "mimetype": "text/x-python",
   "name": "python",
   "nbconvert_exporter": "python",
   "pygments_lexer": "ipython3",
   "version": "3.7.11"
  },
  "orig_nbformat": 4,
  "vscode": {
   "interpreter": {
    "hash": "af640ef5e237560663450db179292dda4e36d8af96316b6d53ad8d34500a15be"
   }
  }
 },
 "nbformat": 4,
 "nbformat_minor": 2
}
