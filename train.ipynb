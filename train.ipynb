{
 "cells": [
  {
   "cell_type": "code",
   "execution_count": 1,
   "metadata": {},
   "outputs": [],
   "source": [
    "from torch.utils.data import DataLoader\n",
    "from Dataset.NSRVideoDataset import NSRVideoDataset\n",
    "from easydict import EasyDict\n",
    "import torch\n",
    "from torchvision.transforms import transforms\n",
    "from torch.utils.tensorboard import SummaryWriter\n",
    "import time\n",
    "import os\n",
    "from Models.VGG16 import VGG16\n",
    "import torchsummary\n",
    "from tqdm import tqdm"
   ]
  },
  {
   "cell_type": "code",
   "execution_count": 2,
   "metadata": {},
   "outputs": [],
   "source": [
    "args = EasyDict({\n",
    "    'dataset_path' : r\"D:\\Video-Dataset\\2022-NSR-3m\", # root directory path\n",
    "    'split' : (0.2, 0.5), # train/validation, validation/train use train_test_split function\n",
    "    'dataset_type' : (\"Train\", \"Validation\", \"Test\"),\n",
    "    'batch_size' : 64,\n",
    "    'epochs' : 10,\n",
    "    'learning_rate' : 1e-3,\n",
    "    'model_name' : \"VGG16\",\n",
    "})"
   ]
  },
  {
   "cell_type": "code",
   "execution_count": 3,
   "metadata": {},
   "outputs": [],
   "source": [
    "transform = transforms.Compose([\n",
    "    transforms.ToTensor(),\n",
    "])\n",
    "\n",
    "train_dataset = NSRVideoDataset(args.dataset_path, args.split, args.dataset_type[0], transform)\n",
    "train_dataloader = DataLoader(train_dataset, batch_size=args.batch_size, shuffle=True, pin_memory=True, num_workers=1, drop_last=False)\n",
    "\n",
    "validation_dataset = NSRVideoDataset(args.dataset_path, args.split, args.dataset_type[1], transform)\n",
    "validation_dataloader = DataLoader(validation_dataset, batch_size=args.batch_size, shuffle=True, pin_memory=True, num_workers=1, drop_last=False)"
   ]
  },
  {
   "cell_type": "code",
   "execution_count": 4,
   "metadata": {},
   "outputs": [],
   "source": [
    "device = 'cuda' if torch.cuda.is_available() else 'cpu'\n",
    "model = VGG16().to(device)\n",
    "# torchsummary.summary(model, (3, 256, 256))\n",
    "\n",
    "criterion = torch.nn.BCELoss().to(device)\n",
    "optimizer = torch.optim.Adam(model.parameters(), lr=args.learning_rate)"
   ]
  },
  {
   "cell_type": "code",
   "execution_count": 5,
   "metadata": {},
   "outputs": [
    {
     "name": "stderr",
     "output_type": "stream",
     "text": [
      "Epoch progress:   0%|          | 0/10 [00:00<?, ?it/s]"
     ]
    }
   ],
   "source": [
    "EXPERIMENT_DIR = f\"./runs/{time.strftime('%Y-%m-%d-%H%M%S')}-{args.model_name}\"\n",
    "os.makedirs(EXPERIMENT_DIR, exist_ok=True)\n",
    "tensorboard_writer = SummaryWriter(log_dir=EXPERIMENT_DIR)\n",
    "\n",
    "for epoch in tqdm(range(args.epochs), total=args.epochs, desc=\"Epoch progress\"):\n",
    "    train_loss, train_accuracy = 0, 0\n",
    "    validation_loss, validation_accuracy = 0, 0\n",
    "    total_batch = len(train_dataloader)\n",
    "\n",
    "    for batch_idx, (datas, labels) in enumerate(tqdm(train_dataloader, total=total_batch, desc=\"train progress\")):\n",
    "        datas, labels = datas.to(device), labels.to(device)\n",
    "\n",
    "        predict = model(datas)\n",
    "        loss = criterion(predict, labels)\n",
    "\n",
    "        optimizer.zero_grad()\n",
    "        loss.backward()\n",
    "        optimizer.step()\n",
    "        train_loss += loss.item() / len(predict)\n",
    "        train_accuracy += ((predict > 0.5) == labels).float().sum().item() / len(predict)\n",
    "    \n",
    "    print(\"Epoch: \", \"%d\" % (epoch + 1), \"train_loss: \", \"{:.9f}\".format(train_loss), \"train_accuracy: \", train_accuracy)\n",
    "    tensorboard_writer.add_scalar(\"Train Loss\", train_loss, epoch + 1)\n",
    "    tensorboard_writer.add_scalar(\"Train Accuracy\", train_accuracy, epoch + 1)\n",
    "\n",
    "    with torch.no_grad():\n",
    "        model.eval()\n",
    "\n",
    "        for batch_idx, (datas, labels) in enumerate(tqdm(validation_dataloader, total=len(validation_dataloader), desc=\"validation progress\")):\n",
    "            datas, labels = datas.to(device), labels.to(device)\n",
    "\n",
    "            predict = model(datas)\n",
    "            loss = criterion(predict, labels)\n",
    "            validation_loss += loss.item() / len(predict)\n",
    "            validation_accuracy += ((predict > 0.5) == labels).float().sum().item() / len(predict)\n",
    "\n",
    "        print(\"Epoch: \", \"%d\" % (epoch + 1), \"validation_loss: \", \"{:.9f}\".format(validation_loss), \"validation_accuracy: \", validation_accuracy)\n",
    "        tensorboard_writer.add_scalar(\"Validation Loss\", validation_loss, epoch + 1)\n",
    "        tensorboard_writer.add_scalar(\"Validation Accuracy\", validation_accuracy, epoch + 1)\n",
    "\n",
    "\n",
    "tensorboard_writer.close()"
   ]
  },
  {
   "cell_type": "code",
   "execution_count": null,
   "metadata": {},
   "outputs": [],
   "source": [
    "print(datas.size())\n",
    "print(labels)\n",
    "print(predict)"
   ]
  },
  {
   "cell_type": "code",
   "execution_count": null,
   "metadata": {},
   "outputs": [],
   "source": []
  }
 ],
 "metadata": {
  "kernelspec": {
   "display_name": "Python 3.7.11 ('torch')",
   "language": "python",
   "name": "python3"
  },
  "language_info": {
   "codemirror_mode": {
    "name": "ipython",
    "version": 3
   },
   "file_extension": ".py",
   "mimetype": "text/x-python",
   "name": "python",
   "nbconvert_exporter": "python",
   "pygments_lexer": "ipython3",
   "version": "3.7.11"
  },
  "orig_nbformat": 4,
  "vscode": {
   "interpreter": {
    "hash": "af640ef5e237560663450db179292dda4e36d8af96316b6d53ad8d34500a15be"
   }
  }
 },
 "nbformat": 4,
 "nbformat_minor": 2
}
