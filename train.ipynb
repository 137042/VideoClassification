{
 "cells": [
  {
   "cell_type": "code",
   "execution_count": 1,
   "metadata": {},
   "outputs": [],
   "source": [
    "from torch.utils.data import DataLoader\n",
    "from Dataset.NSRVideoDataset import NSRVideoDataset\n",
    "from easydict import EasyDict\n",
    "import torch\n",
    "from torchvision.transforms import transforms\n",
    "from torch.utils.tensorboard import SummaryWriter\n",
    "import time\n",
    "import os\n",
    "import torchsummary\n",
    "from tqdm import tqdm\n",
    "import pandas as pd\n",
    "import numpy as np"
   ]
  },
  {
   "cell_type": "code",
   "execution_count": 2,
   "metadata": {},
   "outputs": [],
   "source": [
    "args = EasyDict({\n",
    "    'dataset_path' : r\"D:\\Video-Dataset\\2022-NSR-3m-재분류\", # root directory path\n",
    "    'split' : (0.8, 0.1), # train/validation, validation/train\n",
    "    'dataset_type' : (\"Train\", \"Validation\", \"Test\"),\n",
    "    'batch_size' : 32,\n",
    "    'epochs' : 50,\n",
    "    'learning_rate' : 1e-3,\n",
    "    'model_name' : \"Resnet101\",\n",
    "})"
   ]
  },
  {
   "cell_type": "code",
   "execution_count": 3,
   "metadata": {},
   "outputs": [],
   "source": [
    "train_transform = transforms.Compose([\n",
    "    transforms.RandomCrop(224),\n",
    "    transforms.RandomHorizontalFlip(), \n",
    "    transforms.ToTensor(), \n",
    "    transforms.Normalize((0.485, 0.456, 0.406), (0.229, 0.224, 0.225))\n",
    "])\n",
    "\n",
    "etc_transform = transforms.Compose([\n",
    "    transforms.Resize(224), \n",
    "    transforms.ToTensor(), \n",
    "    transforms.Normalize((0.485, 0.456, 0.406), (0.229, 0.224, 0.225))\n",
    "])\n",
    "\n",
    "train_dataset = NSRVideoDataset(args.dataset_path, args.split, args.dataset_type[0], train_transform)\n",
    "train_dataloader = DataLoader(train_dataset, batch_size=args.batch_size, shuffle=True, pin_memory=True, num_workers=1, drop_last=False)\n",
    "\n",
    "validation_dataset = NSRVideoDataset(args.dataset_path, args.split, args.dataset_type[1], etc_transform)\n",
    "validation_dataloader = DataLoader(validation_dataset, batch_size=args.batch_size, shuffle=False, pin_memory=True, num_workers=1, drop_last=False)\n",
    "\n",
    "test_dataset = NSRVideoDataset(args.dataset_path, args.split, args.dataset_type[2], etc_transform)\n",
    "test_dataloader = DataLoader(test_dataset, batch_size=args.batch_size, shuffle=False, pin_memory=True, num_workers=1, drop_last=False)"
   ]
  },
  {
   "cell_type": "code",
   "execution_count": 4,
   "metadata": {},
   "outputs": [],
   "source": [
    "from Models.VGG16 import VGG16\n",
    "from Models.Resnet101 import Resnet101\n",
    "\n",
    "device = 'cuda' if torch.cuda.is_available() else 'cpu'\n",
    "\n",
    "model = Resnet101().to(device, non_blocking=True)\n",
    "# model = VGG16().to(device, non_blocking=True)\n",
    "# torchsummary.summary(model, (3, 224, 224))\n",
    "\n",
    "criterion = torch.nn.BCEWithLogitsLoss().to(device, non_blocking=True)\n",
    "optimizer = torch.optim.Adam(model.parameters(), lr=args.learning_rate)"
   ]
  },
  {
   "cell_type": "code",
   "execution_count": 5,
   "metadata": {},
   "outputs": [
    {
     "name": "stderr",
     "output_type": "stream",
     "text": [
      "Epoch progress:   0%|          | 0/50 [00:00<?, ?it/s]"
     ]
    }
   ],
   "source": [
    "EXPERIMENT_DIR = f\"./runs/{time.strftime('%Y-%m-%d-%H%M%S')}-{args.model_name}\"\n",
    "os.makedirs(EXPERIMENT_DIR, exist_ok=True)\n",
    "tensorboard_writer = SummaryWriter(log_dir=EXPERIMENT_DIR)\n",
    "\n",
    "train_losses, train_accuracys = [], []\n",
    "val_losses, val_accuracys = [], []\n",
    "\n",
    "for epoch in tqdm(range(args.epochs), total=args.epochs, desc=\"Epoch progress\"):\n",
    "    train_avg_loss, train_accuracy = 0.0, 0.0\n",
    "    validation_avg_loss, validation_accuracy = 0.0, 0.0\n",
    "\n",
    "    total_train_batch = len(train_dataloader)\n",
    "    total_validation_batch = len(validation_dataloader)\n",
    "\n",
    "    model.train()\n",
    "    \n",
    "    for datas, labels in tqdm(train_dataloader, total=total_train_batch, desc=\"train progress\"):\n",
    "        datas, labels = datas.float().to(device, non_blocking=True), labels.to(device, non_blocking=True)\n",
    "\n",
    "        optimizer.zero_grad()\n",
    "        predict = model(datas)\n",
    "        loss = criterion(predict, labels)\n",
    "        loss.backward()\n",
    "        optimizer.step()\n",
    "        train_avg_loss += loss.item() / total_train_batch\n",
    "        train_accuracy += ((predict > 0.5) == labels).float().sum().item()\n",
    "\n",
    "    train_accuracy /= len(train_dataset.data_paths)\n",
    "    tensorboard_writer.add_scalar(\"Train Loss\", train_avg_loss, epoch + 1)\n",
    "    tensorboard_writer.add_scalar(\"Train Accuracy\", train_accuracy, epoch + 1)\n",
    "    \n",
    "    train_losses.append(train_avg_loss)\n",
    "    train_accuracys.append(train_accuracy)\n",
    "    print(\"Epoch: \", \"%d\" % (epoch + 1), \"train_loss: \", \"{:.9f}\".format(train_avg_loss), \"train_accuracy: \", train_accuracy)\n",
    "\n",
    "    with torch.no_grad():\n",
    "        model.eval()\n",
    "\n",
    "        for datas, labels in tqdm(validation_dataloader, total=total_validation_batch, desc=\"validation progress\"):\n",
    "            datas, labels = datas.float().to(device, non_blocking=True), labels.to(device, non_blocking=True)\n",
    "\n",
    "            predict = model(datas)\n",
    "\n",
    "            loss = criterion(predict, labels).detach()\n",
    "            validation_avg_loss += loss.item() / total_validation_batch\n",
    "            validation_accuracy += ((predict > 0.5) == labels).float().sum().item()\n",
    "\n",
    "        validation_accuracy /= len(validation_dataset.data_paths)\n",
    "        tensorboard_writer.add_scalar(\"Validation Loss\", validation_avg_loss, epoch + 1)\n",
    "        tensorboard_writer.add_scalar(\"Validation Accuracy\", validation_accuracy, epoch + 1)\n",
    "        \n",
    "        val_losses.append(validation_avg_loss)\n",
    "        val_accuracys.append(validation_accuracy)\n",
    "        print(\"Epoch: \", \"%d\" % (epoch + 1), \"validation_loss: \", \"{:.9f}\".format(validation_avg_loss), \"validation_accuracy: \", validation_accuracy)\n",
    "    \n",
    "    tensorboard_writer.flush()\n",
    "\n",
    "train_losses, train_accuracys = np.array(train_losses), np.array(train_accuracys)\n",
    "val_losses, val_accuracys = np.array(val_losses), np.array(val_accuracys)\n",
    "train_logs = np.stack([train_losses, train_accuracys, val_losses, val_accuracys], axis=1)\n",
    "\n",
    "train_log_df = pd.DataFrame(train_logs, columns=[\"train_loss\", \"train_accuracy\", \"validation_loss\", \"validation_accuracy\"])\n",
    "train_log_df.to_csv(EXPERIMENT_DIR + \"/train_log.csv\", sep=\",\")\n",
    "\n",
    "tensorboard_writer.close()"
   ]
  },
  {
   "cell_type": "code",
   "execution_count": null,
   "metadata": {},
   "outputs": [],
   "source": []
  }
 ],
 "metadata": {
  "kernelspec": {
   "display_name": "Python 3.7.11 ('torch')",
   "language": "python",
   "name": "python3"
  },
  "language_info": {
   "codemirror_mode": {
    "name": "ipython",
    "version": 3
   },
   "file_extension": ".py",
   "mimetype": "text/x-python",
   "name": "python",
   "nbconvert_exporter": "python",
   "pygments_lexer": "ipython3",
   "version": "3.7.11"
  },
  "orig_nbformat": 4,
  "vscode": {
   "interpreter": {
    "hash": "af640ef5e237560663450db179292dda4e36d8af96316b6d53ad8d34500a15be"
   }
  }
 },
 "nbformat": 4,
 "nbformat_minor": 2
}
