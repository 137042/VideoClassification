{
 "cells": [
  {
   "cell_type": "code",
   "execution_count": 30,
   "metadata": {},
   "outputs": [
    {
     "name": "stderr",
     "output_type": "stream",
     "text": [
      "Extract Features: 100%|██████████| 4/4 [00:01<00:00,  2.03it/s]\n",
      "Extract Features: 100%|██████████| 4/4 [00:01<00:00,  2.19it/s]\n"
     ]
    }
   ],
   "source": [
    "import cv2\n",
    "import math\n",
    "from PIL import Image\n",
    "import numpy as np\n",
    "import matplotlib.pyplot as plt\n",
    "import glob\n",
    "from tqdm import tqdm\n",
    "from torchvision import transforms\n",
    "import random\n",
    "\n",
    "video_legal_dir = r\"C:\\Users\\VIP444\\Desktop\\새 폴더\\agree\"\n",
    "video_illegal_dir = r\"C:\\Users\\VIP444\\Desktop\\새 폴더\\non-agree\"\n",
    "\n",
    "def transform_diagonal(image, mean = 0, std = 0, is_normalize = False):\n",
    "    if is_normalize:\n",
    "        transform = transforms.Compose([\n",
    "            transforms.ToTensor(), \n",
    "            transforms.Normalize(mean, std)\n",
    "        ])\n",
    "\n",
    "        return transform(image)\n",
    "    else:\n",
    "        transform = transforms.Compose([\n",
    "            transforms.ToTensor(), \n",
    "        ])\n",
    "\n",
    "        return transform(image)\n",
    "\n",
    "def extract_diagnoal_matrix(dir_path : str):\n",
    "    video_paths = glob.glob(dir_path + \"\\*.mp4\")\n",
    "    random.shuffle(video_paths)\n",
    "    video_paths = video_paths[:5]\n",
    "    video_diagonals = []\n",
    "    video_names = []\n",
    "\n",
    "    pre_ht = []\n",
    "\n",
    "    for video_path in tqdm(video_paths, total=len(video_paths), desc=\"Extract Features\"):\n",
    "        vidcap = cv2.VideoCapture(video_path)\n",
    "        vid_total_frames_num = vidcap.get(cv2.CAP_PROP_FRAME_COUNT)\n",
    "        vid_frame_per_s = int(vidcap.get(cv2.CAP_PROP_FPS))\n",
    "        video_name = video_path.split(\"\\\\\")[-1]\n",
    "\n",
    "        sections, retstep = np.linspace(1, vid_total_frames_num, 256, retstep=True)\n",
    "        sections = list(map(math.floor, sections))\n",
    "        frame_diagonals = []\n",
    "        frames = []\n",
    "\n",
    "        while(vidcap.isOpened()):\n",
    "            ret, frame = vidcap.read()\n",
    "            \n",
    "            if not ret:\n",
    "                break\n",
    "\n",
    "            # if int(vidcap.get(cv2.CAP_PROP_POS_FRAMES)) in sections or int(vidcap.get(cv2.CAP_PROP_POS_FRAMES)) not in sections:\n",
    "            if int(vidcap.get(cv2.CAP_PROP_POS_FRAMES)) in sections:\n",
    "                frame = cv2.resize(frame, (256, 256))\n",
    "\n",
    "                # frame = cv2.normalize(frame, None, 0, 255, cv2.NORM_MINMAX)\n",
    "                frame_r_ht = cv2.calcHist(frame, [0], None, [256], [0, 255])\n",
    "                frame_g_ht = cv2.calcHist(frame, [1], None, [256], [0, 255])\n",
    "                frame_b_ht = cv2.calcHist(frame, [2], None, [256], [0, 255])\n",
    "                \n",
    "                # if int(vidcap.get(cv2.CAP_PROP_POS_FRAMES)) == 1:\n",
    "                #     pre_frame_r_ht = frame_r_ht\n",
    "                #     pre_frame_g_ht = frame_g_ht\n",
    "                #     pre_frame_b_ht = frame_b_ht\n",
    "                #     continue\n",
    "                \n",
    "                # frame_r_ht_df = abs(pre_frame_r_ht - frame_r_ht)\n",
    "                # frame_g_ht_df = abs(pre_frame_g_ht - frame_g_ht)\n",
    "                # frame_b_ht_df = abs(pre_frame_b_ht - frame_b_ht)\n",
    "\n",
    "                # frame_r_ht = np.log10(abs(frame_r_ht))\n",
    "                # frame_g_ht = np.log10(abs(frame_g_ht))\n",
    "                # frame_b_ht = np.log10(abs(frame_b_ht))\n",
    "                frame_diagonal = np.stack([frame_r_ht, frame_g_ht, frame_b_ht], -1)\n",
    "                # frame_diagonal = np.stack([frame_r_ht_df, frame_g_ht_df, frame_b_ht_df], -1)\n",
    "                frame_diagonals.append(frame_diagonal)\n",
    "\n",
    "                # pre_frame_r_ht = frame_r_ht\n",
    "                # pre_frame_g_ht = frame_g_ht\n",
    "                # pre_frame_b_ht = frame_b_ht\n",
    "\n",
    "        vidcap.release()\n",
    "        video_diagonal = np.concatenate(frame_diagonals, axis=1)\n",
    "        video_diagonal = np.log10(video_diagonal + 1)\n",
    "        # video_diagonal = cv2.normalize(cv2.log(video_diagonal + 1), None, 0, 255, cv2.NORM_MINMAX, cv2.CV_8U)\n",
    "        # video_diagonal = np.log(np.exp(video_diagonal))\n",
    "        # video_diagonal = transform_diagonal(video_diagonal.copy()).permute(1,2,0)\n",
    "        video_diagonals.append(video_diagonal)\n",
    "        video_names.append(video_name)\n",
    "    \n",
    "    return video_names, video_diagonals\n",
    "\n",
    "legal_diagonals = extract_diagnoal_matrix(video_legal_dir)\n",
    "illegal_diagonals = extract_diagnoal_matrix(video_illegal_dir)"
   ]
  },
  {
   "cell_type": "code",
   "execution_count": 31,
   "metadata": {},
   "outputs": [],
   "source": [
    "diagonals_legal = []\n",
    "diagonals_illegal = []\n",
    "legal_names = []\n",
    "illegal_names = []\n",
    "\n",
    "for name, diagonal_legal in zip(legal_diagonals[0], legal_diagonals[1]):\n",
    "    legal_names.append(name)\n",
    "    diagonals_legal.append(diagonal_legal)\n",
    "\n",
    "for name, diagonal_illegal in zip(illegal_diagonals[0], illegal_diagonals[1]):\n",
    "    illegal_names.append(name)\n",
    "    diagonals_illegal.append(diagonal_illegal)"
   ]
  },
  {
   "cell_type": "code",
   "execution_count": 32,
   "metadata": {},
   "outputs": [
    {
     "name": "stdout",
     "output_type": "stream",
     "text": [
      "364-001.mp4\n",
      "(256, 256, 3)\n"
     ]
    },
    {
     "data": {
      "image/png": "[encoded data removed]",
      "text/plain": [
       "<Figure size 432x288 with 1 Axes>"
      ]
     },
     "metadata": {
      "needs_background": "light"
     },
     "output_type": "display_data"
    },
    {
     "name": "stdout",
     "output_type": "stream",
     "text": [
      "240-004.mp4\n",
      "(256, 256, 3)\n"
     ]
    },
    {
     "data": {
      "image/png": "[encoded data removed]",
      "text/plain": [
       "<Figure size 432x288 with 1 Axes>"
      ]
     },
     "metadata": {
      "needs_background": "light"
     },
     "output_type": "display_data"
    },
    {
     "name": "stdout",
     "output_type": "stream",
     "text": [
      "379-001.mp4\n",
      "(256, 256, 3)\n"
     ]
    },
    {
     "data": {
      "image/png": "[encoded data removed]",
      "text/plain": [
       "<Figure size 432x288 with 1 Axes>"
      ]
     },
     "metadata": {
      "needs_background": "light"
     },
     "output_type": "display_data"
    },
    {
     "name": "stdout",
     "output_type": "stream",
     "text": [
      "444-001.mp4\n",
      "(256, 256, 3)\n"
     ]
    },
    {
     "data": {
      "image/png": "[encoded data removed]",
      "text/plain": [
       "<Figure size 432x288 with 1 Axes>"
      ]
     },
     "metadata": {
      "needs_background": "light"
     },
     "output_type": "display_data"
    }
   ],
   "source": [
    "for n, i in zip(illegal_names, diagonals_illegal):\n",
    "    print(n)\n",
    "    print(i.shape)\n",
    "    # print(i[0,:,0])\n",
    "    # i = i.astype(np.uint8)\n",
    "    # plt.imshow(i)\n",
    "    plt.plot(i.ravel())\n",
    "    plt.show()"
   ]
  },
  {
   "cell_type": "code",
   "execution_count": null,
   "metadata": {},
   "outputs": [],
   "source": [
    "import glob\n",
    "\n",
    "paths = glob.glob(r\"D:\\Video-Dataset\\Kinetics400\\test\\*\")\n",
    "\n",
    "paths = [path.split(\"\\\\\")[-1] for path in paths]\n"
   ]
  },
  {
   "cell_type": "code",
   "execution_count": null,
   "metadata": {},
   "outputs": [],
   "source": []
  }
 ],
 "metadata": {
  "kernelspec": {
   "display_name": "Python 3.7.11 ('torch')",
   "language": "python",
   "name": "python3"
  },
  "language_info": {
   "codemirror_mode": {
    "name": "ipython",
    "version": 3
   },
   "file_extension": ".py",
   "mimetype": "text/x-python",
   "name": "python",
   "nbconvert_exporter": "python",
   "pygments_lexer": "ipython3",
   "version": "3.7.11"
  },
  "orig_nbformat": 4,
  "vscode": {
   "interpreter": {
    "hash": "af640ef5e237560663450db179292dda4e36d8af96316b6d53ad8d34500a15be"
   }
  }
 },
 "nbformat": 4,
 "nbformat_minor": 2
}
