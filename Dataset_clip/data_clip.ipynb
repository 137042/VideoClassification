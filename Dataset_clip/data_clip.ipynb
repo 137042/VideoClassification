{
 "cells": [
  {
   "cell_type": "markdown",
   "metadata": {},
   "source": [
    "### 연웅"
   ]
  },
  {
   "cell_type": "code",
   "execution_count": null,
   "metadata": {},
   "outputs": [],
   "source": [
    "import moviepy.editor\n",
    "import os\n",
    "import random\n",
    "import fnmatch\n",
    "import math\n",
    "\n",
    "base_directory = r'D:\\2022-불법영상물-유튜브'\n",
    "\n",
    "ext = \"*mp4\"\n",
    "length = 30 # 30초\n",
    "short_edge = 256\n",
    "\n",
    "labels = [\"agree\", \"nonagree\"]\n",
    "\n",
    "for label in labels:\n",
    "    directory = os.path.join(base_directory, label)\n",
    "    dst_directory = os.path.join(base_directory + \"-after\", label)\n",
    "\n",
    "    if not os.path.exists(dst_directory):\n",
    "        os.makedirs(dst_directory)\n",
    "\n",
    "    # compile list of videos\n",
    "    inputs = [os.path.join(directory,f) for f in os.listdir(directory) if os.path.isfile(os.path.join(directory, f)) and fnmatch.fnmatch(f, ext)]\n",
    "\n",
    "    for idx, name in enumerate(inputs):\n",
    "        orig_file_name = os.path.basename(name)\n",
    "\n",
    "        # import to moviepy\n",
    "        clip = moviepy.editor.VideoFileClip(name)\n",
    "\n",
    "        # 강제로 256x256으로 만듬. 비율 달라지는건 상관 x\n",
    "        clip = clip.resize((short_edge, short_edge))\n",
    "\n",
    "        clip_start = []\n",
    "\n",
    "        for i in range (0, math.floor(clip.duration)):\n",
    "            if i % 30 == 0 and i + 30 < clip.duration:\n",
    "                clip_start.append(i)\n",
    "        \n",
    "        clip_start = random.sample(clip_start, 5)\n",
    "\n",
    "        clips = []\n",
    "\n",
    "        for start in clip_start:\n",
    "            # cut a subclip\n",
    "            clips.append(clip.subclip(start,start+length))\n",
    "\n",
    "        for idx, c in enumerate(clips):\n",
    "            c.write_videofile(os.path.join(base_directory + \"-after\", label, orig_file_name.split(\"_\")[0] + \"-\" + f'{idx+1:03d}.mp4'))"
   ]
  },
  {
   "cell_type": "markdown",
   "metadata": {},
   "source": [
    "### 현택"
   ]
  },
  {
   "cell_type": "code",
   "execution_count": null,
   "metadata": {},
   "outputs": [],
   "source": [
    "from moviepy.video.io.ffmpeg_tools import ffmpeg_extract_subclip\n",
    "import cv2\n",
    "import random\n",
    "\n",
    "# original_path = 'F:/video_dataset/nsrvideo/train/legal/[#유미의세포들] 박이 터졌다는 건 이별을 준비해야 한다는 것💔 유자청 사건부터 단답 문자까지 참고 참다가 결국 터져버린 유미🤯  #Diggle #갓구운클립.mp4'\n",
    "original_path = 'F:/video_dataset/nsrvideo/val/illegal/'\n",
    "partition_path = 'F:/video_dataset/nsrvideo-partition/val/illegal/'\n",
    "\n",
    "video_names = os.listdir(original_path)\n",
    "\n",
    "for name in video_names:\n",
    "    try:\n",
    "        video = cv2.VideoCapture(original_path + name)\n",
    "        total_fps = video.get(cv2.CAP_PROP_FRAME_COUNT)\n",
    "        fps = video.get(cv2.CAP_PROP_FPS)\n",
    "\n",
    "        times = []\n",
    "\n",
    "        start_time = 0\n",
    "        end_minute = (total_fps // fps)\n",
    "        # end_second = int((total_fps / fps) % 60)\n",
    "\n",
    "        count = int((total_fps / fps) // 60 // 5)\n",
    "\n",
    "        if end_minute >= 0.5:\n",
    "            for i in range(count):\n",
    "                times.append(start_time)\n",
    "                start_time += 30\n",
    "        else:\n",
    "            times.append(start_time)\n",
    "\n",
    "        if len(times) >= 5:\n",
    "            times = random.sample(times, 5)\n",
    "\n",
    "        for i, time in enumerate(times):\n",
    "            ffmpeg_extract_subclip(original_path + name, start_time+1, start_time+30, targetname=partition_path + f'/{name[:-4]}-{i}.mp4')\n",
    "    except:\n",
    "        continue\n",
    "\n",
    "# ffmpeg_extract_subclip(original_path, 60, 70, targetname=partition_path)"
   ]
  },
  {
   "cell_type": "code",
   "execution_count": null,
   "metadata": {},
   "outputs": [],
   "source": []
  }
 ],
 "metadata": {
  "language_info": {
   "name": "python"
  },
  "orig_nbformat": 4
 },
 "nbformat": 4,
 "nbformat_minor": 2
}
