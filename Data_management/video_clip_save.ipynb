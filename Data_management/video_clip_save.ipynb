{
 "cells": [
  {
   "cell_type": "code",
   "execution_count": 1,
   "metadata": {},
   "outputs": [
    {
     "name": "stderr",
     "output_type": "stream",
     "text": [
      "non-agree data 3m clipping: 100%|██████████| 160/160 [00:00<00:00, 40108.09it/s]\n"
     ]
    }
   ],
   "source": [
    "import moviepy.editor\n",
    "import os\n",
    "import random\n",
    "import math\n",
    "import glob\n",
    "from tqdm import tqdm\n",
    "import numpy as np\n",
    "\n",
    "def video_clip_split(dir_path):\n",
    "    length = 180 # 3분 (180초)\n",
    "    short_edge = 256\n",
    "\n",
    "    labels = [\"non-agree\"]\n",
    "\n",
    "    for label in labels:\n",
    "        directory = os.path.join(dir_path, label)\n",
    "        dst_directory = os.path.join(dir_path + \"-after-3m\", label)\n",
    "\n",
    "        os.makedirs(dst_directory, exist_ok=True)\n",
    "\n",
    "        # list of videos\n",
    "        inputs = glob.glob(dir_path + f\"\\{label}\\*\")\n",
    "        inputs.sort()\n",
    "\n",
    "        for idx, name in enumerate(tqdm(inputs, desc=f\"{label} data 3m clipping\")):\n",
    "            try:\n",
    "                orig_file_name = os.path.basename(name)\n",
    "\n",
    "                if os.path.exists(os.path.join(dst_directory, orig_file_name.split(\".mp4\")[0] + \"-\" + f'{1:03d}.mp4')):\n",
    "                    continue\n",
    "                \n",
    "                # import to moviepy\n",
    "                clip = moviepy.editor.VideoFileClip(name)\n",
    "\n",
    "                # 강제로 256x256으로 만듬. 비율 달라지는건 상관 x\n",
    "                clip = clip.resize((short_edge, short_edge))\n",
    "            \n",
    "                clip_start = []\n",
    "                duration = math.floor(clip.duration)\n",
    "\n",
    "                if duration < 180:  # 3분 미만 X\n",
    "                    continue \n",
    "                elif duration < 210:  # 3분 ~ 3분 30초 이하 1개\n",
    "                    step = 120\n",
    "                    clips_num = 1 \n",
    "                elif duration < 240:  # 3분 30초 ~ 4분 미만 2개\n",
    "                    step = 90\n",
    "                    clips_num = 2\n",
    "                elif duration < 320:  # 4분 ~ 5분 20초 미만 3개\n",
    "                    step = 80\n",
    "                    clips_num = 3\n",
    "                elif duration < 400:  # 5분 20초 ~ 6분 40초 미만 4개\n",
    "                    step = 80\n",
    "                    clips_num = 4\n",
    "                elif duration < 450:  # 6분 40초 ~ 7분 30초 미만 5개\n",
    "                    step = 80\n",
    "                    clips_num = 5\n",
    "                else:                 # 7분 30초 이상 5개\n",
    "                    step = 90\n",
    "                    clips_num = 5\n",
    "\n",
    "                # for i in range (0, duration-length, step):\n",
    "                #     clip_start.append(i)\n",
    "\n",
    "                clip_start = np.linspace(0, duration-length, duration//step, endpoint=True).astype(int).tolist()\n",
    "                clip_start = random.sample(clip_start, clips_num)\n",
    "                clip_start.sort()\n",
    "                clips = []\n",
    "\n",
    "                for start in clip_start:\n",
    "                    # cut a subclip\n",
    "                    clips.append(clip.subclip(start, start+length))\n",
    "                    \n",
    "                    # clips.append(clip.subclip(40, -10))\n",
    "                    # break\n",
    "\n",
    "                for idx, c in enumerate(clips):\n",
    "                    c.write_videofile(os.path.join(dst_directory, orig_file_name.split(\".mp4\")[0] + \"-\" + f'{idx+1:03d}.mp4'))\n",
    "                \n",
    "                clip.close()\n",
    "            except:\n",
    "                print(\"ERROR!!!!!\", duration, clip_start, orig_file_name)\n",
    "                return\n",
    "\n",
    "base_directory = r'D:\\Video-Dataset\\2022-NSR-v4'\n",
    "\n",
    "video_clip_split(base_directory)"
   ]
  },
  {
   "cell_type": "code",
   "execution_count": null,
   "metadata": {},
   "outputs": [],
   "source": [
    "duration = 399\n",
    "length = 180\n",
    "step = 80\n",
    "\n",
    "clip_start = np.linspace(0, duration-length, duration//step, endpoint=True).astype(int).tolist()\n",
    "# clip_start = list(set(clip_start))\n",
    "clip_start"
   ]
  },
  {
   "cell_type": "markdown",
   "metadata": {},
   "source": [
    "### Video frame clip and save"
   ]
  },
  {
   "cell_type": "code",
   "execution_count": null,
   "metadata": {},
   "outputs": [],
   "source": [
    "import cv2\n",
    "from PIL import Image\n",
    "import numpy as np\n",
    "import matplotlib.pyplot as plt\n",
    "\n",
    "cap = cv2.VideoCapture(r'D:\\Video-Dataset\\2022-NSR-v3\\새 폴더\\1.mp4')\n",
    "\n",
    "width = int(cap.get(cv2.CAP_PROP_FRAME_WIDTH)) # 가로 길이 가져오기 \n",
    "height = int(cap.get(cv2.CAP_PROP_FRAME_HEIGHT)) # 세로 길이 가져오기\n",
    "fps = 30\n",
    "\n",
    "fcc = cv2.VideoWriter_fourcc('D', 'I', 'V', 'X') # codec 설정\n",
    "out = cv2.VideoWriter(r'D:\\Video-Dataset\\2022-NSR-v3\\새 폴더\\2.mp4', fcc, fps, (1050, 720), isColor=True)\n",
    "\n",
    "while (cap.isOpened()):\n",
    "    ret, frame = cap.read()\n",
    "\n",
    "    if ret:\n",
    "        frame = np.array(Image.fromarray(np.array(frame)).crop((0,0,1050,720)))\n",
    "        out.write(frame)\n",
    "    else:\n",
    "        print(\"Complete write all frame!\")\n",
    "        break\n",
    "\n",
    "cap.release()\n",
    "out.release()"
   ]
  },
  {
   "cell_type": "code",
   "execution_count": null,
   "metadata": {},
   "outputs": [],
   "source": []
  }
 ],
 "metadata": {
  "kernelspec": {
   "display_name": "Python 3.7.11 ('torch')",
   "language": "python",
   "name": "python3"
  },
  "language_info": {
   "codemirror_mode": {
    "name": "ipython",
    "version": 3
   },
   "file_extension": ".py",
   "mimetype": "text/x-python",
   "name": "python",
   "nbconvert_exporter": "python",
   "pygments_lexer": "ipython3",
   "version": "3.7.11"
  },
  "orig_nbformat": 4,
  "vscode": {
   "interpreter": {
    "hash": "af640ef5e237560663450db179292dda4e36d8af96316b6d53ad8d34500a15be"
   }
  }
 },
 "nbformat": 4,
 "nbformat_minor": 2
}
