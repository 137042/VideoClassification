{
 "cells": [
  {
   "cell_type": "code",
   "execution_count": 1,
   "metadata": {},
   "outputs": [],
   "source": [
    "from torch.utils.data import DataLoader\n",
    "from Dataset.NSRVideoDataset import NSRVideoDataset\n",
    "from easydict import EasyDict\n",
    "import torch\n",
    "from torchvision.transforms import transforms\n",
    "from torch.utils.tensorboard import SummaryWriter\n",
    "import time\n",
    "import os\n",
    "import torchsummary\n",
    "from tqdm import tqdm\n",
    "import pandas as pd\n",
    "import numpy as np"
   ]
  },
  {
   "cell_type": "code",
   "execution_count": 2,
   "metadata": {},
   "outputs": [],
   "source": [
    "args = EasyDict({\n",
    "    'dataset_path' : r\"D:\\Video-Dataset\\2022-NSR\", # root directory path\n",
    "    'split' : (0.8, 0.1), # train/validation, validation/train\n",
    "    'dataset_type' : (\"Train\", \"Validation\", \"Test\"),\n",
    "    'batch_size' : 16,\n",
    "    'epochs' : 50,\n",
    "    'learning_rate' : 1e-3,\n",
    "    'model_name' : \"Densenet201\",\n",
    "    'desc' : \"frame_df_diag\",\n",
    "    'is_transform' : True\n",
    "})"
   ]
  },
  {
   "cell_type": "code",
   "execution_count": 3,
   "metadata": {},
   "outputs": [],
   "source": [
    "train_dataset = NSRVideoDataset(args.dataset_path, args.split, args.dataset_type[0], args.is_transform)\n",
    "train_dataloader = DataLoader(train_dataset, batch_size=args.batch_size, shuffle=True, pin_memory=True, num_workers=1, drop_last=False)\n",
    "\n",
    "validation_dataset = NSRVideoDataset(args.dataset_path, args.split, args.dataset_type[1], args.is_transform)\n",
    "validation_dataloader = DataLoader(validation_dataset, batch_size=args.batch_size, shuffle=False, pin_memory=True, num_workers=1, drop_last=False)\n",
    "\n",
    "test_dataset = NSRVideoDataset(args.dataset_path, args.split, args.dataset_type[2], args.is_transform)\n",
    "test_dataloader = DataLoader(test_dataset, batch_size=args.batch_size, shuffle=False, pin_memory=True, num_workers=1, drop_last=False)"
   ]
  },
  {
   "cell_type": "code",
   "execution_count": 4,
   "metadata": {},
   "outputs": [],
   "source": [
    "from Models.Densenet201 import Densenet201\n",
    "\n",
    "device = 'cuda' if torch.cuda.is_available() else 'cpu'\n",
    "\n",
    "model = Densenet201().to(device, non_blocking=True)\n",
    "# torchsummary.summary(model, (3, 224, 224))\n",
    "\n",
    "criterion = torch.nn.BCEWithLogitsLoss().to(device, non_blocking=True)\n",
    "optimizer = torch.optim.Adam(model.parameters(), lr=args.learning_rate)"
   ]
  },
  {
   "cell_type": "code",
   "execution_count": 5,
   "metadata": {},
   "outputs": [
    {
     "name": "stderr",
     "output_type": "stream",
     "text": [
      "train progress: 100%|██████████| 166/166 [15:24<00:00,  5.57s/it]\n"
     ]
    },
    {
     "name": "stdout",
     "output_type": "stream",
     "text": [
      "Epoch:  1 train_loss:  0.573646530 train_accuracy:  0.8492272898605352\n"
     ]
    },
    {
     "name": "stderr",
     "output_type": "stream",
     "text": [
      "validation progress: 100%|██████████| 21/21 [01:45<00:00,  5.04s/it]\n"
     ]
    },
    {
     "name": "stdout",
     "output_type": "stream",
     "text": [
      "Epoch:  1 validation_loss:  0.560392742 validation_accuracy:  0.851963746223565\n"
     ]
    },
    {
     "name": "stderr",
     "output_type": "stream",
     "text": [
      "Epoch progress:   2%|▏         | 1/50 [17:19<14:08:40, 1039.19s/it]"
     ]
    },
    {
     "name": "stdout",
     "output_type": "stream",
     "text": [
      "1000000.0 -> 0.5603927418904723 dicreased validation loss -> saved model-1\n"
     ]
    },
    {
     "name": "stderr",
     "output_type": "stream",
     "text": [
      "train progress: 100%|██████████| 166/166 [13:42<00:00,  4.95s/it]\n"
     ]
    },
    {
     "name": "stdout",
     "output_type": "stream",
     "text": [
      "Epoch:  2 train_loss:  0.557167445 train_accuracy:  0.8737278552581983\n"
     ]
    },
    {
     "name": "stderr",
     "output_type": "stream",
     "text": [
      "validation progress: 100%|██████████| 21/21 [01:42<00:00,  4.90s/it]\n"
     ]
    },
    {
     "name": "stdout",
     "output_type": "stream",
     "text": [
      "Epoch:  2 validation_loss:  0.553885620 validation_accuracy:  0.8851963746223565\n"
     ]
    },
    {
     "name": "stderr",
     "output_type": "stream",
     "text": [
      "Epoch progress:   4%|▍         | 2/50 [32:52<13:01:42, 977.13s/it] "
     ]
    },
    {
     "name": "stdout",
     "output_type": "stream",
     "text": [
      "0.5603927418904723 -> 0.5538856196259444 dicreased validation loss -> saved model-2\n"
     ]
    },
    {
     "name": "stderr",
     "output_type": "stream",
     "text": [
      "train progress: 100%|██████████| 166/166 [13:44<00:00,  4.97s/it]\n"
     ]
    },
    {
     "name": "stdout",
     "output_type": "stream",
     "text": [
      "Epoch:  3 train_loss:  0.549143410 train_accuracy:  0.8891820580474934\n"
     ]
    },
    {
     "name": "stderr",
     "output_type": "stream",
     "text": [
      "validation progress: 100%|██████████| 21/21 [01:43<00:00,  4.92s/it]\n",
      "Epoch progress:   6%|▌         | 3/50 [48:20<12:27:44, 954.56s/it]"
     ]
    },
    {
     "name": "stdout",
     "output_type": "stream",
     "text": [
      "Epoch:  3 validation_loss:  0.557925467 validation_accuracy:  0.8459214501510574\n"
     ]
    },
    {
     "name": "stderr",
     "output_type": "stream",
     "text": [
      "train progress: 100%|██████████| 166/166 [13:40<00:00,  4.94s/it]\n"
     ]
    },
    {
     "name": "stdout",
     "output_type": "stream",
     "text": [
      "Epoch:  4 train_loss:  0.541980591 train_accuracy:  0.9091594421409724\n"
     ]
    },
    {
     "name": "stderr",
     "output_type": "stream",
     "text": [
      "validation progress: 100%|██████████| 21/21 [01:37<00:00,  4.67s/it]\n"
     ]
    },
    {
     "name": "stdout",
     "output_type": "stream",
     "text": [
      "Epoch:  4 validation_loss:  0.529409373 validation_accuracy:  0.9425981873111783\n"
     ]
    },
    {
     "name": "stderr",
     "output_type": "stream",
     "text": [
      "Epoch progress:   8%|▊         | 4/50 [1:03:47<12:03:22, 943.54s/it]"
     ]
    },
    {
     "name": "stdout",
     "output_type": "stream",
     "text": [
      "0.5538856196259444 -> 0.5294093725544449 dicreased validation loss -> saved model-4\n"
     ]
    },
    {
     "name": "stderr",
     "output_type": "stream",
     "text": [
      "train progress: 100%|██████████| 166/166 [13:04<00:00,  4.73s/it]\n"
     ]
    },
    {
     "name": "stdout",
     "output_type": "stream",
     "text": [
      "Epoch:  5 train_loss:  0.548534327 train_accuracy:  0.894082171127026\n"
     ]
    },
    {
     "name": "stderr",
     "output_type": "stream",
     "text": [
      "validation progress: 100%|██████████| 21/21 [01:42<00:00,  4.90s/it]\n",
      "Epoch progress:  10%|█         | 5/50 [1:18:34<11:32:27, 923.28s/it]"
     ]
    },
    {
     "name": "stdout",
     "output_type": "stream",
     "text": [
      "Epoch:  5 validation_loss:  0.536258130 validation_accuracy:  0.9274924471299094\n"
     ]
    },
    {
     "name": "stderr",
     "output_type": "stream",
     "text": [
      "train progress: 100%|██████████| 166/166 [13:38<00:00,  4.93s/it]\n"
     ]
    },
    {
     "name": "stdout",
     "output_type": "stream",
     "text": [
      "Epoch:  6 train_loss:  0.538057043 train_accuracy:  0.9178288729739917\n"
     ]
    },
    {
     "name": "stderr",
     "output_type": "stream",
     "text": [
      "validation progress: 100%|██████████| 21/21 [01:43<00:00,  4.91s/it]\n",
      "Epoch progress:  12%|█▏        | 6/50 [1:33:56<11:16:44, 922.83s/it]"
     ]
    },
    {
     "name": "stdout",
     "output_type": "stream",
     "text": [
      "Epoch:  6 validation_loss:  0.532013603 validation_accuracy:  0.9365558912386707\n"
     ]
    },
    {
     "name": "stderr",
     "output_type": "stream",
     "text": [
      "train progress: 100%|██████████| 166/166 [13:40<00:00,  4.94s/it]\n"
     ]
    },
    {
     "name": "stdout",
     "output_type": "stream",
     "text": [
      "Epoch:  7 train_loss:  0.544902136 train_accuracy:  0.897474557105164\n"
     ]
    },
    {
     "name": "stderr",
     "output_type": "stream",
     "text": [
      "validation progress: 100%|██████████| 21/21 [01:43<00:00,  4.91s/it]\n",
      "Epoch progress:  14%|█▍        | 7/50 [1:49:19<11:01:27, 922.97s/it]"
     ]
    },
    {
     "name": "stdout",
     "output_type": "stream",
     "text": [
      "Epoch:  7 validation_loss:  0.541821352 validation_accuracy:  0.918429003021148\n"
     ]
    },
    {
     "name": "stderr",
     "output_type": "stream",
     "text": [
      "train progress: 100%|██████████| 166/166 [13:31<00:00,  4.89s/it]\n"
     ]
    },
    {
     "name": "stdout",
     "output_type": "stream",
     "text": [
      "Epoch:  8 train_loss:  0.545263823 train_accuracy:  0.8967206935544666\n"
     ]
    },
    {
     "name": "stderr",
     "output_type": "stream",
     "text": [
      "validation progress: 100%|██████████| 21/21 [01:38<00:00,  4.70s/it]\n",
      "Epoch progress:  16%|█▌        | 8/50 [2:04:29<10:43:08, 918.77s/it]"
     ]
    },
    {
     "name": "stdout",
     "output_type": "stream",
     "text": [
      "Epoch:  8 validation_loss:  0.571113346 validation_accuracy:  0.8821752265861027\n"
     ]
    },
    {
     "name": "stderr",
     "output_type": "stream",
     "text": [
      "train progress: 100%|██████████| 166/166 [13:03<00:00,  4.72s/it]\n"
     ]
    },
    {
     "name": "stdout",
     "output_type": "stream",
     "text": [
      "Epoch:  9 train_loss:  0.541621408 train_accuracy:  0.9057670561628345\n"
     ]
    },
    {
     "name": "stderr",
     "output_type": "stream",
     "text": [
      "validation progress: 100%|██████████| 21/21 [01:38<00:00,  4.71s/it]\n",
      "Epoch progress:  18%|█▊        | 9/50 [2:19:11<10:20:02, 907.38s/it]"
     ]
    },
    {
     "name": "stdout",
     "output_type": "stream",
     "text": [
      "Epoch:  9 validation_loss:  0.532855767 validation_accuracy:  0.9335347432024169\n"
     ]
    },
    {
     "name": "stderr",
     "output_type": "stream",
     "text": [
      "train progress: 100%|██████████| 166/166 [13:09<00:00,  4.76s/it]\n"
     ]
    },
    {
     "name": "stdout",
     "output_type": "stream",
     "text": [
      "Epoch:  10 train_loss:  0.536015688 train_accuracy:  0.919713531850735\n"
     ]
    },
    {
     "name": "stderr",
     "output_type": "stream",
     "text": [
      "validation progress: 100%|██████████| 21/21 [01:39<00:00,  4.74s/it]\n",
      "Epoch progress:  20%|██        | 10/50 [2:34:01<10:01:10, 901.77s/it]"
     ]
    },
    {
     "name": "stdout",
     "output_type": "stream",
     "text": [
      "Epoch:  10 validation_loss:  0.532332892 validation_accuracy:  0.9244712990936556\n"
     ]
    },
    {
     "name": "stderr",
     "output_type": "stream",
     "text": [
      "train progress: 100%|██████████| 166/166 [13:19<00:00,  4.82s/it]\n"
     ]
    },
    {
     "name": "stdout",
     "output_type": "stream",
     "text": [
      "Epoch:  11 train_loss:  0.535471283 train_accuracy:  0.920844327176781\n"
     ]
    },
    {
     "name": "stderr",
     "output_type": "stream",
     "text": [
      "validation progress: 100%|██████████| 21/21 [01:38<00:00,  4.69s/it]\n"
     ]
    },
    {
     "name": "stdout",
     "output_type": "stream",
     "text": [
      "Epoch:  11 validation_loss:  0.528995247 validation_accuracy:  0.9305135951661632\n"
     ]
    },
    {
     "name": "stderr",
     "output_type": "stream",
     "text": [
      "Epoch progress:  22%|██▏       | 11/50 [2:49:07<9:47:05, 903.22s/it] "
     ]
    },
    {
     "name": "stdout",
     "output_type": "stream",
     "text": [
      "0.5294093725544449 -> 0.528995247225747 dicreased validation loss -> saved model-11\n"
     ]
    },
    {
     "name": "stderr",
     "output_type": "stream",
     "text": [
      "train progress: 100%|██████████| 166/166 [13:06<00:00,  4.74s/it]\n"
     ]
    },
    {
     "name": "stdout",
     "output_type": "stream",
     "text": [
      "Epoch:  12 train_loss:  0.532948146 train_accuracy:  0.9280060309084056\n"
     ]
    },
    {
     "name": "stderr",
     "output_type": "stream",
     "text": [
      "validation progress: 100%|██████████| 21/21 [01:38<00:00,  4.71s/it]\n"
     ]
    },
    {
     "name": "stdout",
     "output_type": "stream",
     "text": [
      "Epoch:  12 validation_loss:  0.524702673 validation_accuracy:  0.9577039274924471\n"
     ]
    },
    {
     "name": "stderr",
     "output_type": "stream",
     "text": [
      "Epoch progress:  24%|██▍       | 12/50 [3:04:01<9:30:17, 900.45s/it]"
     ]
    },
    {
     "name": "stdout",
     "output_type": "stream",
     "text": [
      "0.528995247225747 -> 0.5247026730520128 dicreased validation loss -> saved model-12\n"
     ]
    },
    {
     "name": "stderr",
     "output_type": "stream",
     "text": [
      "train progress: 100%|██████████| 166/166 [13:04<00:00,  4.72s/it]\n"
     ]
    },
    {
     "name": "stdout",
     "output_type": "stream",
     "text": [
      "Epoch:  13 train_loss:  0.537456251 train_accuracy:  0.9189596683000377\n"
     ]
    },
    {
     "name": "stderr",
     "output_type": "stream",
     "text": [
      "validation progress: 100%|██████████| 21/21 [01:38<00:00,  4.69s/it]\n"
     ]
    },
    {
     "name": "stdout",
     "output_type": "stream",
     "text": [
      "Epoch:  13 validation_loss:  0.521379860 validation_accuracy:  0.9546827794561934\n"
     ]
    },
    {
     "name": "stderr",
     "output_type": "stream",
     "text": [
      "Epoch progress:  26%|██▌       | 13/50 [3:18:53<9:13:34, 897.70s/it]"
     ]
    },
    {
     "name": "stdout",
     "output_type": "stream",
     "text": [
      "0.5247026730520128 -> 0.5213798597860192 dicreased validation loss -> saved model-13\n"
     ]
    },
    {
     "name": "stderr",
     "output_type": "stream",
     "text": [
      "train progress: 100%|██████████| 166/166 [13:04<00:00,  4.72s/it]\n"
     ]
    },
    {
     "name": "stdout",
     "output_type": "stream",
     "text": [
      "Epoch:  14 train_loss:  0.532075077 train_accuracy:  0.9313984168865436\n"
     ]
    },
    {
     "name": "stderr",
     "output_type": "stream",
     "text": [
      "validation progress: 100%|██████████| 21/21 [01:38<00:00,  4.69s/it]\n",
      "Epoch progress:  28%|██▊       | 14/50 [3:33:35<8:55:55, 893.21s/it]"
     ]
    },
    {
     "name": "stdout",
     "output_type": "stream",
     "text": [
      "Epoch:  14 validation_loss:  0.526736377 validation_accuracy:  0.945619335347432\n"
     ]
    },
    {
     "name": "stderr",
     "output_type": "stream",
     "text": [
      "train progress: 100%|██████████| 166/166 [13:05<00:00,  4.73s/it]\n"
     ]
    },
    {
     "name": "stdout",
     "output_type": "stream",
     "text": [
      "Epoch:  15 train_loss:  0.537504977 train_accuracy:  0.918582736524689\n"
     ]
    },
    {
     "name": "stderr",
     "output_type": "stream",
     "text": [
      "validation progress: 100%|██████████| 21/21 [01:38<00:00,  4.70s/it]\n",
      "Epoch progress:  30%|███       | 15/50 [3:48:19<8:39:23, 890.37s/it]"
     ]
    },
    {
     "name": "stdout",
     "output_type": "stream",
     "text": [
      "Epoch:  15 validation_loss:  0.531397579 validation_accuracy:  0.9214501510574018\n"
     ]
    },
    {
     "name": "stderr",
     "output_type": "stream",
     "text": [
      "train progress: 100%|██████████| 166/166 [13:08<00:00,  4.75s/it]\n"
     ]
    },
    {
     "name": "stdout",
     "output_type": "stream",
     "text": [
      "Epoch:  16 train_loss:  0.532823432 train_accuracy:  0.9287598944591029\n"
     ]
    },
    {
     "name": "stderr",
     "output_type": "stream",
     "text": [
      "validation progress: 100%|██████████| 21/21 [01:38<00:00,  4.70s/it]\n",
      "Epoch progress:  32%|███▏      | 16/50 [4:03:06<8:23:59, 889.41s/it]"
     ]
    },
    {
     "name": "stdout",
     "output_type": "stream",
     "text": [
      "Epoch:  16 validation_loss:  0.532658473 validation_accuracy:  0.918429003021148\n"
     ]
    },
    {
     "name": "stderr",
     "output_type": "stream",
     "text": [
      "train progress: 100%|██████████| 166/166 [13:05<00:00,  4.73s/it]\n"
     ]
    },
    {
     "name": "stdout",
     "output_type": "stream",
     "text": [
      "Epoch:  17 train_loss:  0.532818746 train_accuracy:  0.9268752355823596\n"
     ]
    },
    {
     "name": "stderr",
     "output_type": "stream",
     "text": [
      "validation progress: 100%|██████████| 21/21 [01:38<00:00,  4.71s/it]\n",
      "Epoch progress:  34%|███▍      | 17/50 [4:17:51<8:08:24, 888.01s/it]"
     ]
    },
    {
     "name": "stdout",
     "output_type": "stream",
     "text": [
      "Epoch:  17 validation_loss:  0.524496717 validation_accuracy:  0.9425981873111783\n"
     ]
    },
    {
     "name": "stderr",
     "output_type": "stream",
     "text": [
      "train progress: 100%|██████████| 166/166 [13:13<00:00,  4.78s/it]\n"
     ]
    },
    {
     "name": "stdout",
     "output_type": "stream",
     "text": [
      "Epoch:  18 train_loss:  0.535049243 train_accuracy:  0.9246136449302677\n"
     ]
    },
    {
     "name": "stderr",
     "output_type": "stream",
     "text": [
      "validation progress: 100%|██████████| 21/21 [01:38<00:00,  4.68s/it]\n",
      "Epoch progress:  36%|███▌      | 18/50 [4:32:43<7:54:13, 889.18s/it]"
     ]
    },
    {
     "name": "stdout",
     "output_type": "stream",
     "text": [
      "Epoch:  18 validation_loss:  0.538351693 validation_accuracy:  0.9305135951661632\n"
     ]
    },
    {
     "name": "stderr",
     "output_type": "stream",
     "text": []
    }
   ],
   "source": [
    "EXPERIMENT_DIR = f\"./runs/{time.strftime('%Y-%m-%d-%H%M%S')}-{args.model_name}-{args.desc}\"\n",
    "os.makedirs(EXPERIMENT_DIR, exist_ok=True)\n",
    "\n",
    "checkpoint_path = EXPERIMENT_DIR + \"/models\"\n",
    "os.makedirs(checkpoint_path, exist_ok=True)\n",
    "\n",
    "tensorboard_writer = SummaryWriter(log_dir=EXPERIMENT_DIR)\n",
    "\n",
    "train_losses, train_accuracys = [], []\n",
    "val_losses, val_accuracys = [], []\n",
    "min_validation_loss, save_idx = 1000000.0, 0\n",
    "\n",
    "for epoch in tqdm(range(args.epochs), total=args.epochs, desc=\"Epoch progress\"):\n",
    "    train_avg_loss, train_accuracy = 0.0, 0.0\n",
    "    validation_avg_loss, validation_accuracy = 0.0, 0.0\n",
    "\n",
    "    total_train_batch = len(train_dataloader)\n",
    "    total_validation_batch = len(validation_dataloader)\n",
    "\n",
    "    model.train()\n",
    "    \n",
    "    for datas, labels in tqdm(train_dataloader, total=total_train_batch, desc=\"train progress\"):\n",
    "        datas, labels = datas.float().to(device, non_blocking=True), labels.to(device, non_blocking=True)\n",
    "\n",
    "        optimizer.zero_grad()\n",
    "        predict = model(datas)\n",
    "        loss = criterion(predict, labels)\n",
    "        loss.backward()\n",
    "        optimizer.step()\n",
    "        train_avg_loss += loss.item() * datas.size(0)\n",
    "        train_accuracy += ((predict > 0.5) == labels).float().sum().item()\n",
    "\n",
    "    train_avg_loss /= len(train_dataset.data_paths)\n",
    "    train_accuracy /= len(train_dataset.data_paths)\n",
    "\n",
    "    train_losses.append(train_avg_loss)\n",
    "    train_accuracys.append(train_accuracy)\n",
    "    print(\"Epoch: \", \"%d\" % (epoch + 1), \"train_loss: \", \"{:.9f}\".format(train_avg_loss), \"train_accuracy: \", train_accuracy)\n",
    "\n",
    "    with torch.no_grad():\n",
    "        model.eval()\n",
    "\n",
    "        for datas, labels in tqdm(validation_dataloader, total=total_validation_batch, desc=\"validation progress\"):\n",
    "            datas, labels = datas.float().to(device, non_blocking=True), labels.to(device, non_blocking=True)\n",
    "\n",
    "            predict = model(datas)\n",
    "\n",
    "            loss = criterion(predict, labels).detach()\n",
    "            validation_avg_loss += loss.item() * datas.size(0)\n",
    "            validation_accuracy += ((predict > 0.5) == labels).float().sum().item()\n",
    "\n",
    "        validation_avg_loss /= len(validation_dataset.data_paths)\n",
    "        validation_accuracy /= len(validation_dataset.data_paths)\n",
    "\n",
    "        val_losses.append(validation_avg_loss)\n",
    "        val_accuracys.append(validation_accuracy)\n",
    "        print(\"Epoch: \", \"%d\" % (epoch + 1), \"validation_loss: \", \"{:.9f}\".format(validation_avg_loss), \"validation_accuracy: \", validation_accuracy)\n",
    "        \n",
    "        if validation_avg_loss < min_validation_loss:\n",
    "            checkpint = {\n",
    "            'state_dict' : model.state_dict(), \n",
    "            'optimizer': optimizer.state_dict(),\n",
    "            }\n",
    "            torch.save(checkpint, checkpoint_path + f\"/checkpoint-{epoch + 1}.pth.tar\")\n",
    "\n",
    "            print(f\"{min_validation_loss} -> {validation_avg_loss} dicreased validation loss -> saved model-{epoch + 1}\")\n",
    "            min_validation_loss = validation_avg_loss\n",
    "            save_idx = epoch + 1\n",
    "\n",
    "    tensorboard_writer.add_scalars(\"Accuracy\", {\n",
    "        \"Train\" : train_accuracy,\n",
    "        \"Validation\" : validation_accuracy\n",
    "        }, \n",
    "        epoch + 1)\n",
    "    tensorboard_writer.add_scalars(\"Loss\", {\n",
    "        \"Train\" : train_avg_loss,\n",
    "        \"Validation\" : validation_avg_loss\n",
    "        }, \n",
    "        epoch + 1)\n",
    "\n",
    "    tensorboard_writer.flush()\n",
    "\n",
    "train_losses, train_accuracys = np.array(train_losses), np.array(train_accuracys)\n",
    "val_losses, val_accuracys = np.array(val_losses), np.array(val_accuracys)\n",
    "train_logs = np.stack([train_losses, train_accuracys, val_losses, val_accuracys], axis=1)\n",
    "\n",
    "train_log_df = pd.DataFrame(train_logs, columns=[\"train_loss\", \"train_accuracy\", \"validation_loss\", \"validation_accuracy\"])\n",
    "train_log_df.to_csv(EXPERIMENT_DIR + \"/train_log.csv\", sep=\",\")\n",
    "\n",
    "tensorboard_writer.close()"
   ]
  },
  {
   "cell_type": "code",
   "execution_count": null,
   "metadata": {},
   "outputs": [],
   "source": [
    "load_path = f\"{checkpoint_path}/checkpoint-{save_idx}.pth.tar\"\n",
    "\n",
    "def load_checkpoint(checkpoint, model, optimizer):\n",
    "    print(\"=> Loading checkpoint\")\n",
    "    model.load_state_dict(checkpoint['state_dict'])\n",
    "    optimizer.load_state_dict(checkpoint['optimizer'])\n",
    "\n",
    "load_checkpoint(torch.load(load_path), model, optimizer)"
   ]
  },
  {
   "cell_type": "code",
   "execution_count": null,
   "metadata": {},
   "outputs": [],
   "source": [
    "test_avg_loss, test_accuracy = 0.0, 0.0\n",
    "y_pred, y_true = [], []\n",
    "total_test_batch = len(test_dataloader)\n",
    "\n",
    "with torch.no_grad():\n",
    "    for datas, labels in tqdm(test_dataloader, total=len(test_dataloader), desc=\"Test Progress\"):\n",
    "        datas, labels = datas.float().to(device, non_blocking=True), labels.to(device, non_blocking=True)\n",
    "        \n",
    "        test_predicts = model(datas)\n",
    "        \n",
    "        loss = criterion(test_predicts, labels).detach()\n",
    "        test_avg_loss += loss.item() * datas.size(0)\n",
    "        test_accuracy += ((test_predicts > 0.5) == labels).float().sum().item()\n",
    "\n",
    "        labels = labels.cpu().numpy()\n",
    "        test_predicts = (test_predicts > 0.5).float().cpu().numpy()\n",
    "        y_pred.extend(test_predicts)\n",
    "        y_true.extend(labels)\n",
    "\n",
    "test_loss, test_accuracy = test_avg_loss / len(test_dataset.data_paths), test_accuracy / len(test_dataset.data_paths)\n",
    "print(test_loss, test_accuracy)\n",
    "\n",
    "with open(EXPERIMENT_DIR + \"/test_log.txt\", \"w\", encoding='utf-8') as file:\n",
    "    file.write(f\"Test Loss : {test_loss}\\n\")\n",
    "    file.write(f\"Test Accuracy : {test_accuracy}\")\n",
    "    file.close()"
   ]
  },
  {
   "cell_type": "code",
   "execution_count": null,
   "metadata": {},
   "outputs": [],
   "source": [
    "from sklearn.metrics import confusion_matrix\n",
    "import matplotlib.pyplot as plt\n",
    "import seaborn as sn\n",
    "\n",
    "cm = confusion_matrix(y_true, y_pred)\n",
    "labels = [\"Non Agree\", \"Agree\"]\n",
    "\n",
    "df_cm = pd.DataFrame(cm, index = [label for label in labels], columns = [label for label in labels])\n",
    "plt.figure(figsize = (12,7))\n",
    "sn.heatmap(df_cm, annot=True)\n",
    "plt.savefig(EXPERIMENT_DIR + '\\confusion_matrix.png')"
   ]
  },
  {
   "cell_type": "code",
   "execution_count": null,
   "metadata": {},
   "outputs": [],
   "source": [
    "import shutil\n",
    "\n",
    "error_indexes = []\n",
    "for idx, (p, t) in enumerate(zip(y_pred, y_true)):\n",
    "    if p != t:\n",
    "        error_indexes.append(idx)\n",
    "\n",
    "error_list = []\n",
    "for idx in error_indexes:\n",
    "    error_list.append(test_dataset.data_paths[idx])\n",
    "\n",
    "legal_error_destination = EXPERIMENT_DIR + \"\\error_ag_to_non\"\n",
    "os.makedirs(legal_error_destination, exist_ok=True)\n",
    "illegal_error_destination = EXPERIMENT_DIR + \"\\error_non_to_ag\"\n",
    "os.makedirs(illegal_error_destination, exist_ok=True)\n",
    "\n",
    "for error_path, label in tqdm(error_list, total=len(error_list)):\n",
    "    file_name = error_path.split(\"\\\\\")[-1]\n",
    "    if label[0] == 1:\n",
    "        shutil.copy2(error_path, f\"{legal_error_destination}\\{file_name}\")\n",
    "    else:\n",
    "        shutil.copy2(error_path, f\"{illegal_error_destination}\\{file_name}\")"
   ]
  },
  {
   "cell_type": "code",
   "execution_count": null,
   "metadata": {},
   "outputs": [],
   "source": []
  }
 ],
 "metadata": {
  "kernelspec": {
   "display_name": "Python 3.7.11 ('torch')",
   "language": "python",
   "name": "python3"
  },
  "language_info": {
   "codemirror_mode": {
    "name": "ipython",
    "version": 3
   },
   "file_extension": ".py",
   "mimetype": "text/x-python",
   "name": "python",
   "nbconvert_exporter": "python",
   "pygments_lexer": "ipython3",
   "version": "3.7.11"
  },
  "orig_nbformat": 4,
  "vscode": {
   "interpreter": {
    "hash": "af640ef5e237560663450db179292dda4e36d8af96316b6d53ad8d34500a15be"
   }
  }
 },
 "nbformat": 4,
 "nbformat_minor": 2
}
